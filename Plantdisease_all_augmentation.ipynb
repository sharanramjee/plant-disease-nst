{
  "nbformat": 4,
  "nbformat_minor": 0,
  "metadata": {
    "accelerator": "GPU",
    "colab": {
      "name": "Plantdisease_all_augmentation.ipynb",
      "provenance": [],
      "collapsed_sections": []
    },
    "kernelspec": {
      "display_name": "Python 3",
      "name": "python3"
    }
  },
  "cells": [
    {
      "cell_type": "code",
      "metadata": {
        "colab": {
          "base_uri": "https://localhost:8080/"
        },
        "id": "U0Sp1iQs-5lb",
        "outputId": "faa27663-7b85-4aed-e8af-399f5bd166d1"
      },
      "source": [
        "from google.colab import drive\n",
        "drive.mount(\"/content/gdrive\")"
      ],
      "execution_count": null,
      "outputs": [
        {
          "output_type": "stream",
          "text": [
            "Drive already mounted at /content/gdrive; to attempt to forcibly remount, call drive.mount(\"/content/gdrive\", force_remount=True).\n"
          ],
          "name": "stdout"
        }
      ]
    },
    {
      "cell_type": "code",
      "metadata": {
        "id": "0sZtCQghFvDO"
      },
      "source": [
        "!unzip '/content/gdrive/My Drive/Colab Notebooks/CS229 Project/PlantVillage_cyclegan.zip'"
      ],
      "execution_count": null,
      "outputs": []
    },
    {
      "cell_type": "code",
      "metadata": {
        "id": "vbFUNg3tKo8d"
      },
      "source": [
        "import time\n",
        "import copy\n",
        "\n",
        "import torch\n",
        "import numpy as np\n",
        "import matplotlib.pyplot as plt\n",
        "from PIL import Image\n",
        "\n",
        "from torch import nn, optim\n",
        "import torch.nn.functional as F\n",
        "from torch.utils.data import Subset\n",
        "from torch.autograd import Variable\n",
        "from sklearn.model_selection import train_test_split\n",
        "from torchvision import datasets, transforms, models\n",
        "from collections import OrderedDict\n",
        "from torch.utils.data import Dataset, DataLoader\n",
        "from torch.optim import lr_scheduler\n",
        "from sklearn import metrics\n",
        "import os"
      ],
      "execution_count": null,
      "outputs": []
    },
    {
      "cell_type": "markdown",
      "metadata": {
        "id": "HWFKFA4mwyxj"
      },
      "source": [
        "# Load PlantVillage Dataset"
      ]
    },
    {
      "cell_type": "code",
      "metadata": {
        "id": "0ApU2YvYFd_d",
        "colab": {
          "base_uri": "https://localhost:8080/"
        },
        "outputId": "27444dea-9e34-40d3-8a1f-9cf019b4189b"
      },
      "source": [
        "#Organizing the dataset\n",
        "batch_size = 32\n",
        "\n",
        "# check if CUDA is available\n",
        "train_on_gpu = torch.cuda.is_available()\n",
        "\n",
        "if not train_on_gpu:\n",
        "    print('CUDA is not available.  Training on CPU ...')\n",
        "else:\n",
        "    print('CUDA is available!  Training on GPU ...')\n",
        "device = torch.device(\"cuda:0\" if torch.cuda.is_available() else \"cpu\")\n",
        "print(device)"
      ],
      "execution_count": null,
      "outputs": [
        {
          "output_type": "stream",
          "text": [
            "CUDA is available!  Training on GPU ...\n",
            "cuda:0\n"
          ],
          "name": "stdout"
        }
      ]
    },
    {
      "cell_type": "code",
      "metadata": {
        "id": "VJ-O_ly5YVz8"
      },
      "source": [
        "def balanced_sampler_weights(images, nclasses):\n",
        "  count = [0] * nclasses\n",
        "  for img in images:\n",
        "    count[img[1]] += 1\n",
        "  total_num_imgs = float(sum(count))\n",
        "\n",
        "  weight_per_class = [total_num_imgs/float(count[i]) for i in range(nclasses)]\n",
        "  weight_per_img = [weight_per_class[img[1]] for _, img in enumerate(images)]\n",
        "  return weight_per_img"
      ],
      "execution_count": null,
      "outputs": []
    },
    {
      "cell_type": "code",
      "metadata": {
        "id": "J5KnbE3_KmhW",
        "colab": {
          "base_uri": "https://localhost:8080/"
        },
        "outputId": "7ffba5c6-7bb8-4305-bed2-0f0de90fdc31"
      },
      "source": [
        "# Define your transforms for the training and validation sets\n",
        "# Data augmentation and normalization for training\n",
        "data_transforms = {\n",
        "    'train': transforms.Compose([\n",
        "        transforms.Resize(256),\n",
        "        # transforms.RandomAffine(0,shear=30),\n",
        "        transforms.RandomRotation(30),\n",
        "        transforms.RandomResizedCrop(224),\n",
        "        transforms.RandomHorizontalFlip(),\n",
        "        transforms.ToTensor(),\n",
        "        transforms.Normalize([0.485, 0.456, 0.406], [0.229, 0.224, 0.225])\n",
        "    ]),\n",
        "    'val': transforms.Compose([\n",
        "        transforms.Resize(256),\n",
        "        transforms.CenterCrop(224),\n",
        "        transforms.ToTensor(),\n",
        "        transforms.Normalize([0.485, 0.456, 0.406], [0.229, 0.224, 0.225])\n",
        "    ]),\n",
        "}\n",
        "\n",
        "data_dir = 'PlantVillage_cyclegan'\n",
        "image_datasets = {x: datasets.ImageFolder(os.path.join(data_dir, x), data_transforms[x]) for x in ['train', 'val']}\n",
        "\n",
        "balance_classes = False\n",
        "\n",
        "if balance_classes:\n",
        "  train_weights = balanced_sampler_weights(image_datasets['train'].imgs, len(image_datasets['train'].classes))\n",
        "  train_weights = torch.DoubleTensor(train_weights)\n",
        "  train_sampler = torch.utils.data.sampler.WeightedRandomSampler(train_weights, len(train_weights))\n",
        "  samplers = {'train': train_sampler, 'val': None}\n",
        "\n",
        "  # Using the image datasets and the trainforms, define the dataloaders\n",
        "  dataloaders = {x: torch.utils.data.DataLoader(image_datasets[x], batch_size=batch_size, sampler=samplers[x], num_workers=4) for x in ['train', 'val']}\n",
        "else:\n",
        "  print(\"No balancing\")\n",
        "  # Using the image datasets and the trainforms, define the dataloaders\n",
        "  dataloaders = {x: torch.utils.data.DataLoader(image_datasets[x], batch_size=batch_size, shuffle=True, num_workers=4) for x in ['train', 'val']}\n",
        "\n",
        "dataset_sizes = {x: len(image_datasets[x]) for x in ['train', 'val']}\n",
        "\n",
        "x,y = next(iter(dataloaders['train']))\n",
        "print(x.shape, y.shape)"
      ],
      "execution_count": null,
      "outputs": [
        {
          "output_type": "stream",
          "text": [
            "No balancing\n",
            "torch.Size([32, 3, 224, 224]) torch.Size([32])\n"
          ],
          "name": "stdout"
        }
      ]
    },
    {
      "cell_type": "code",
      "metadata": {
        "id": "WlJKJ3g-VNCJ"
      },
      "source": [
        "tmp = dataloaders['train']"
      ],
      "execution_count": null,
      "outputs": []
    },
    {
      "cell_type": "code",
      "metadata": {
        "id": "Dc5f2u_sVaxE"
      },
      "source": [
        "num_images_show = 10\n",
        "i = 0\n",
        "for x in tmp:\n",
        "  print(np.transpose(x[0][0], (1,2,0)).shape)\n",
        "  tmp_img = np.transpose(x[0][0].numpy(), (1,2,0))\n",
        "  print(tmp_img.shape)\n",
        "  plt.imshow(tmp_img)\n",
        "  plt.show()\n",
        "  i+=1\n",
        "  if i >= num_images_show:\n",
        "    break"
      ],
      "execution_count": null,
      "outputs": []
    },
    {
      "cell_type": "code",
      "metadata": {
        "id": "lM8PMyeFpCXi"
      },
      "source": [
        "buckets_split = {}\n",
        "for split in ['train', 'val']:\n",
        "  classes = image_datasets[split].classes\n",
        "  buckets_split[split] = {x: 0 for x in classes}\n",
        "\n",
        "for split in ['train', 'val']:\n",
        "  ds = dataloaders[split]\n",
        "  for data, batch_target in ds:\n",
        "    for target in batch_target:\n",
        "      class_idx = target.item()\n",
        "      buckets_split[split][classes[class_idx]] += 1"
      ],
      "execution_count": null,
      "outputs": []
    },
    {
      "cell_type": "code",
      "metadata": {
        "colab": {
          "base_uri": "https://localhost:8080/",
          "height": 305
        },
        "id": "LwrTFv6QtepQ",
        "outputId": "11677d86-e038-425b-de28-a25c5354a5de"
      },
      "source": [
        "plt.figure(figsize=(20,5))\n",
        "ind = range(len(buckets_split['train'].keys()))\n",
        "p1 = plt.bar(ind,list(buckets_split['train'].values()))\n",
        "p2 = plt.bar(ind,list(buckets_split['val'].values()), bottom=list(buckets_split['train'].values()))\n",
        "plt.title(\"PlantVillage dataset class distribution\")\n",
        "plt.ylabel('Number of samples')\n",
        "plt.xlabel('Plant disease class')\n",
        "plt.xticks(ind)\n",
        "plt.legend((p1[0], p2[0]), ('Train', 'Validation'))\n",
        "plt.show()"
      ],
      "execution_count": null,
      "outputs": [
        {
          "output_type": "display_data",
          "data": {
            "image/png": "[encoded data removed]",
            "text/plain": [
              "<Figure size 1440x360 with 1 Axes>"
            ]
          },
          "metadata": {
            "tags": [],
            "needs_background": "light"
          }
        }
      ]
    },
    {
      "cell_type": "markdown",
      "metadata": {
        "id": "iZTxeBRhw3v4"
      },
      "source": [
        "# Build and train classifier"
      ]
    },
    {
      "cell_type": "code",
      "metadata": {
        "id": "OaTKXHH-o5t-"
      },
      "source": [
        "model = models.resnet152(pretrained=True)\n",
        "\n",
        "# for param in model.parameters():\n",
        "#   param.requires_grad = False\n",
        "# model = models.resnet50(pretrained=True)"
      ],
      "execution_count": null,
      "outputs": []
    },
    {
      "cell_type": "code",
      "metadata": {
        "id": "kv6rG0SAymOL"
      },
      "source": [
        "classifier = nn.Sequential(OrderedDict([('fc1', nn.Linear(2048, 512)),\n",
        "                                        ('relu', nn.ReLU()),\n",
        "                                        ('fc2', nn.Linear(512, 39)),\n",
        "                                        ('output', nn.LogSoftmax(dim=1))]))\n",
        "\n",
        "model.fc = classifier"
      ],
      "execution_count": null,
      "outputs": []
    },
    {
      "cell_type": "code",
      "metadata": {
        "id": "KTV9x5EiynlT"
      },
      "source": [
        "#Function to train the model\n",
        "def train_model(model, criterion, optimizer, scheduler, num_epochs=50):\n",
        "    since = time.time()\n",
        "\n",
        "    best_model_wts = copy.deepcopy(model.state_dict())\n",
        "    best_acc = 0.0\n",
        "\n",
        "    for epoch in range(1, num_epochs+1):\n",
        "        print('Epoch {}/{}'.format(epoch, num_epochs))\n",
        "        print('-' * 10)\n",
        "\n",
        "        # Each epoch has a training and validation phase\n",
        "        scheduler.step()\n",
        "        model.train()  # Set model to training mode\n",
        "        running_loss = 0.0\n",
        "        running_corrects = 0\n",
        "\n",
        "        # Train and update weights\n",
        "        for inputs, labels in dataloaders['train']:\n",
        "          inputs, labels = inputs.to(device), labels.to(device)\n",
        "          optimizer.zero_grad()\n",
        "\n",
        "          # Forward\n",
        "          outputs = model(inputs)\n",
        "          loss = criterion(outputs, labels)\n",
        "          _, preds = torch.max(outputs,1)\n",
        "\n",
        "          # Backward + optimize\n",
        "          loss.backward()\n",
        "          optimizer.step()\n",
        "\n",
        "          # statistics\n",
        "          running_loss += loss.item() * inputs.size(0)\n",
        "          running_corrects += torch.sum(preds == labels.data)\n",
        "        \n",
        "        epoch_loss = running_loss / dataset_sizes['train']\n",
        "        epoch_acc = running_corrects.double() / dataset_sizes['train']\n",
        "\n",
        "        print(f\"Train Loss: {epoch_loss} Acc: {epoch_acc}\")\n",
        "\n",
        "        # Evaluate on validation set\n",
        "        model.eval()\n",
        "        running_loss = 0.0\n",
        "        running_corrects = 0\n",
        "\n",
        "        # Iterate over data.\n",
        "        for inputs, labels in dataloaders['val']:\n",
        "            inputs, labels = inputs.to(device), labels.to(device)\n",
        "\n",
        "            # zero the parameter gradients\n",
        "            optimizer.zero_grad()\n",
        "\n",
        "            # forward\n",
        "            with torch.no_grad():\n",
        "                outputs = model(inputs)\n",
        "                loss = criterion(outputs, labels)\n",
        "                _, preds = torch.max(outputs, 1)\n",
        "\n",
        "            # statistics\n",
        "            running_loss += loss.item() * inputs.size(0)\n",
        "            running_corrects += torch.sum(preds == labels.data)\n",
        "\n",
        "        epoch_loss = running_loss / dataset_sizes['val']\n",
        "        epoch_acc = running_corrects.double() / dataset_sizes['val']\n",
        "\n",
        "        print(f\"Validation Loss: {epoch_loss} Acc: {epoch_acc}\")\n",
        "\n",
        "        # deep copy the model\n",
        "        if epoch_acc > best_acc:\n",
        "            best_acc = epoch_acc\n",
        "            best_model_wts = copy.deepcopy(model.state_dict())\n",
        "        \n",
        "        if epoch % 5 == 0:\n",
        "            # Save model every 5 epochs\n",
        "            model.epochs = epoch\n",
        "            checkpoint = {'input_size': [3, 224, 224],\n",
        "                  'batch_size': dataloaders['train'].batch_size,\n",
        "                  'output_size': 39,\n",
        "                  'state_dict': model.state_dict(),\n",
        "                  'data_transforms': data_transforms,\n",
        "                  'optimizer_dict':optimizer.state_dict(),\n",
        "                  'epoch': model.epochs}\n",
        "            torch.save(checkpoint, f\"cyclegan_augmentation_{epoch}_epochs_checkpoint.pth\")\n",
        "\n",
        "    time_elapsed = time.time() - since\n",
        "    print('Training complete in {:.0f}m {:.0f}s'.format(\n",
        "        time_elapsed // 60, time_elapsed % 60))\n",
        "    print('Best valid accuracy: {:4f}'.format(best_acc))\n",
        "\n",
        "    # load best model weights\n",
        "    model.load_state_dict(best_model_wts)\n",
        "    return model"
      ],
      "execution_count": null,
      "outputs": []
    },
    {
      "cell_type": "markdown",
      "metadata": {
        "id": "oL8pSxywqRgw"
      },
      "source": [
        "## With CycleGAN augmentation"
      ]
    },
    {
      "cell_type": "code",
      "metadata": {
        "colab": {
          "base_uri": "https://localhost:8080/"
        },
        "id": "WILJnBjFqXHW",
        "outputId": "8ad2e959-3be0-415b-be68-5f0901543903"
      },
      "source": [
        "# Train a model with a pre-trained network\n",
        "num_epochs = 20\n",
        "if train_on_gpu:\n",
        "    print (\"Using GPU: \"+ str(train_on_gpu))\n",
        "    model = model.cuda()\n",
        "\n",
        "# NLLLoss because our output is LogSoftmax\n",
        "criterion = nn.NLLLoss()\n",
        "\n",
        "# Adam optimizer with a learning rate\n",
        "optimizer = optim.Adam(model.fc.parameters(), lr=0.001)\n",
        "# Decay LR by a factor of 0.1 every 5 epochs\n",
        "exp_lr_scheduler = lr_scheduler.StepLR(optimizer, step_size=5, gamma=0.1)\n",
        "\n",
        "\n",
        "model_ft = train_model(model, criterion, optimizer, exp_lr_scheduler, num_epochs=num_epochs)"
      ],
      "execution_count": null,
      "outputs": [
        {
          "output_type": "stream",
          "text": [
            "Using GPU: True\n",
            "Epoch 1/20\n",
            "----------\n"
          ],
          "name": "stdout"
        },
        {
          "output_type": "stream",
          "text": [
            "/usr/local/lib/python3.6/dist-packages/torch/optim/lr_scheduler.py:136: UserWarning: Detected call of `lr_scheduler.step()` before `optimizer.step()`. In PyTorch 1.1.0 and later, you should call them in the opposite order: `optimizer.step()` before `lr_scheduler.step()`.  Failure to do this will result in PyTorch skipping the first value of the learning rate schedule. See more details at https://pytorch.org/docs/stable/optim.html#how-to-adjust-learning-rate\n",
            "  \"https://pytorch.org/docs/stable/optim.html#how-to-adjust-learning-rate\", UserWarning)\n"
          ],
          "name": "stderr"
        },
        {
          "output_type": "stream",
          "text": [
            "Train Loss: 0.7421623301331071 Acc: 0.7853598532232507\n",
            "Validation Loss: 0.2918343214999975 Acc: 0.9040348964013085\n",
            "Epoch 2/20\n",
            "----------\n",
            "Train Loss: 0.43770354792081767 Acc: 0.8631265115503295\n",
            "Validation Loss: 0.21949705248072293 Acc: 0.9282079243911304\n",
            "Epoch 3/20\n",
            "----------\n",
            "Train Loss: 0.39601183799431366 Acc: 0.8755733466766742\n",
            "Validation Loss: 0.19481605152429904 Acc: 0.9374772809887313\n",
            "Epoch 4/20\n",
            "----------\n",
            "Train Loss: 0.3591879079741738 Acc: 0.885080477024435\n",
            "Validation Loss: 0.2169022157338696 Acc: 0.9267539076699381\n",
            "Epoch 5/20\n",
            "----------\n",
            "Train Loss: 0.2527582844682476 Acc: 0.9192519389542156\n",
            "Validation Loss: 0.1520214088136545 Acc: 0.9499272991639404\n",
            "Epoch 6/20\n",
            "----------\n",
            "Train Loss: 0.2406004540328337 Acc: 0.9220040030022517\n",
            "Validation Loss: 0.14055541319341303 Acc: 0.9521083242457288\n",
            "Epoch 7/20\n",
            "----------\n",
            "Train Loss: 0.23316451838312569 Acc: 0.924547577349679\n",
            "Validation Loss: 0.1256903345973892 Acc: 0.9583787713558706\n",
            "Epoch 8/20\n",
            "----------\n",
            "Train Loss: 0.2305439740541172 Acc: 0.9256525727629056\n",
            "Validation Loss: 0.12159449932131929 Acc: 0.9591057797164667\n",
            "Epoch 9/20\n",
            "----------\n",
            "Train Loss: 0.22503440887961215 Acc: 0.9284880326911851\n",
            "Validation Loss: 0.12235332259678788 Acc: 0.9587422755361686\n",
            "Epoch 10/20\n",
            "----------\n",
            "Train Loss: 0.21440591569236536 Acc: 0.9320115086314736\n",
            "Validation Loss: 0.1228412346276602 Acc: 0.9593784078516903\n",
            "Epoch 11/20\n",
            "----------\n",
            "Train Loss: 0.21401972281528706 Acc: 0.9307605704278209\n",
            "Validation Loss: 0.12009190858461258 Acc: 0.9591966557615412\n",
            "Epoch 12/20\n",
            "----------\n",
            "Train Loss: 0.20970590764672353 Acc: 0.9318864148111083\n",
            "Validation Loss: 0.12215237253386513 Acc: 0.9597419120319883\n",
            "Epoch 13/20\n",
            "----------\n",
            "Train Loss: 0.20917725107477164 Acc: 0.9324076390626304\n",
            "Validation Loss: 0.11569933943187743 Acc: 0.9612868047982551\n",
            "Epoch 14/20\n",
            "----------\n",
            "Train Loss: 0.2132242435109286 Acc: 0.9319698106913519\n",
            "Validation Loss: 0.12594881574836145 Acc: 0.9572882588149764\n",
            "Epoch 15/20\n",
            "----------\n",
            "Train Loss: 0.20913917508736513 Acc: 0.9333875406554917\n",
            "Validation Loss: 0.11938051564834934 Acc: 0.9590149036713922\n",
            "Epoch 16/20\n",
            "----------\n",
            "Train Loss: 0.2090540868615788 Acc: 0.9311775498290384\n",
            "Validation Loss: 0.11775535918225141 Acc: 0.960559796437659\n",
            "Epoch 17/20\n",
            "----------\n",
            "Train Loss: 0.21204875607191695 Acc: 0.9313443415895255\n",
            "Validation Loss: 0.12112967405767494 Acc: 0.9595601599418393\n",
            "Epoch 18/20\n",
            "----------\n",
            "Train Loss: 0.2055231149767171 Acc: 0.9344716870986574\n",
            "Validation Loss: 0.11800913630383139 Acc: 0.9592875318066157\n",
            "Epoch 19/20\n",
            "----------\n",
            "Train Loss: 0.20995267320117683 Acc: 0.9315736802601952\n",
            "Validation Loss: 0.12037032257368763 Acc: 0.9602871683024354\n",
            "Epoch 20/20\n",
            "----------\n",
            "Train Loss: 0.2109458258725189 Acc: 0.9323033942123259\n",
            "Validation Loss: 0.11589775095388744 Acc: 0.960923300617957\n",
            "Training complete in 126m 7s\n",
            "Best valid accuracy: 0.961287\n"
          ],
          "name": "stdout"
        }
      ]
    },
    {
      "cell_type": "code",
      "metadata": {
        "id": "7QNvVryOqXHX"
      },
      "source": [
        "# Do validation on the test set\n",
        "def test(model, dataloaders, device):\n",
        "  model.eval()\n",
        "  accuracy = 0\n",
        "  \n",
        "  model.to(device)\n",
        "  \n",
        "  label_accuracy = {x: 0 for x in image_datasets['val'].classes}\n",
        "  predicted_labels = []\n",
        "  true_labels = []\n",
        "\n",
        "  for images, labels in dataloaders['val']:\n",
        "    images = Variable(images)\n",
        "    labels = Variable(labels)\n",
        "    images, labels = images.to(device), labels.to(device)\n",
        "      \n",
        "    output = model.forward(images)\n",
        "    ps = torch.exp(output)\n",
        "    equality = (labels.data == ps.max(1)[1])\n",
        "    acc = equality.type_as(torch.FloatTensor())\n",
        "    accuracy += acc.mean()\n",
        "    for i,x in enumerate(labels.data):\n",
        "      label_accuracy[image_datasets['val'].classes[x]] += acc[i]\n",
        "      predicted_labels.append(ps.max(1)[1][i])\n",
        "      true_labels.append(x)\n",
        "\n",
        "  print(\"Testing Accuracy: {:.3f}\".format(accuracy/len(dataloaders['val'])))\n",
        "\n",
        "  return true_labels, predicted_labels"
      ],
      "execution_count": null,
      "outputs": []
    },
    {
      "cell_type": "code",
      "metadata": {
        "id": "s3-s2Q0RqXHX"
      },
      "source": [
        "model.epochs = num_epochs\n",
        "checkpoint = {'input_size': [3, 224, 224],\n",
        "                 'batch_size': dataloaders['train'].batch_size,\n",
        "                  'output_size': 39,\n",
        "                  'state_dict': model.state_dict(),\n",
        "                  'data_transforms': data_transforms,\n",
        "                  'optimizer_dict':optimizer.state_dict(),\n",
        "                  'epoch': model.epochs}\n",
        "torch.save(checkpoint, '/content/gdrive/My Drive/Colab Notebooks/CS229 Project/cyclegan_augmentation_checkpoint.pth')"
      ],
      "execution_count": null,
      "outputs": []
    },
    {
      "cell_type": "code",
      "metadata": {
        "colab": {
          "base_uri": "https://localhost:8080/"
        },
        "id": "9a1MNFGCqXHX",
        "outputId": "a54d9065-2252-4e57-d182-caf21e383012"
      },
      "source": [
        "true_labels, predicted_labels = test(model, dataloaders, device)"
      ],
      "execution_count": null,
      "outputs": [
        {
          "output_type": "stream",
          "text": [
            "Testing Accuracy: 0.961\n"
          ],
          "name": "stdout"
        }
      ]
    },
    {
      "cell_type": "code",
      "metadata": {
        "id": "vxwQ0LMvqXHX"
      },
      "source": [
        "predicted_labels_list = [x.cpu().item() for x in predicted_labels]\n",
        "true_labels_list = [x.cpu().item() for x in true_labels]"
      ],
      "execution_count": null,
      "outputs": []
    },
    {
      "cell_type": "code",
      "metadata": {
        "colab": {
          "base_uri": "https://localhost:8080/"
        },
        "id": "zyMuFHytqXHX",
        "outputId": "4086beb5-d74c-4c39-e9ea-4fc8cbf5f6e5"
      },
      "source": [
        "# Print the confusion matrix\n",
        "print(metrics.confusion_matrix(true_labels_list, predicted_labels_list))\n",
        "\n",
        "# Print the precision and recall, among other metrics\n",
        "print(metrics.classification_report(true_labels_list, predicted_labels_list, target_names=image_datasets['val'].classes, digits=3))"
      ],
      "execution_count": null,
      "outputs": [
        {
          "output_type": "stream",
          "text": [
            "[[112   0   0 ...   0   0   0]\n",
            " [  0 114   0 ...   0   0   0]\n",
            " [  2   0  48 ...   0   0   0]\n",
            " ...\n",
            " [  0   0   0 ...  71   0   0]\n",
            " [  0   0   0 ...   0 316   0]\n",
            " [  0   0   0 ...   0   0 143]]\n",
            "                                                    precision    recall  f1-score   support\n",
            "\n",
            "                                Apple___Apple_scab      0.957     0.889     0.922       126\n",
            "                                 Apple___Black_rot      1.000     0.912     0.954       125\n",
            "                          Apple___Cedar_apple_rust      1.000     0.873     0.932        55\n",
            "                                   Apple___healthy      0.942     0.985     0.963       329\n",
            "                               Blueberry___healthy      0.993     0.983     0.988       300\n",
            "          Cherry_(including_sour)___Powdery_mildew      0.995     0.981     0.988       210\n",
            "                 Cherry_(including_sour)___healthy      0.983     0.994     0.988       170\n",
            "Corn_(maize)___Cercospora_leaf_spot Gray_leaf_spot      0.876     0.757     0.812       103\n",
            "                       Corn_(maize)___Common_rust_      0.987     0.987     0.987       239\n",
            "               Corn_(maize)___Northern_Leaf_Blight      0.873     0.939     0.905       197\n",
            "                            Corn_(maize)___healthy      0.996     1.000     0.998       233\n",
            "                                 Grape___Black_rot      0.987     0.949     0.968       236\n",
            "                      Grape___Esca_(Black_Measles)      0.965     0.993     0.979       276\n",
            "        Grape___Leaf_blight_(Isariopsis_Leaf_Spot)      0.991     0.991     0.991       215\n",
            "                                   Grape___healthy      0.955     1.000     0.977        84\n",
            "          Orange___Haunglongbing_(Citrus_greening)      0.998     0.997     0.998      1102\n",
            "                            Peach___Bacterial_spot      0.936     0.993     0.964       459\n",
            "                                   Peach___healthy      0.945     0.958     0.952        72\n",
            "                     Pepper,_bell___Bacterial_spot      0.974     0.950     0.962       200\n",
            "                            Pepper,_bell___healthy      0.957     0.983     0.970       295\n",
            "                             Potato___Early_blight      0.975     0.980     0.978       200\n",
            "                              Potato___Late_blight      0.989     0.935     0.961       200\n",
            "                                  Potato___healthy      0.950     0.613     0.745        31\n",
            "                               Raspberry___healthy      0.973     0.973     0.973        74\n",
            "                                 Soybean___healthy      0.977     0.992     0.984      1018\n",
            "                           Squash___Powdery_mildew      0.997     0.997     0.997       367\n",
            "                          Strawberry___Leaf_scorch      0.978     0.995     0.987       222\n",
            "                              Strawberry___healthy      0.968     1.000     0.984        92\n",
            "                           Tomato___Bacterial_spot      0.962     0.951     0.956       425\n",
            "                             Tomato___Early_blight      0.928     0.770     0.842       200\n",
            "                              Tomato___Late_blight      0.917     0.929     0.923       382\n",
            "                                Tomato___Leaf_Mold      0.963     0.822     0.887       191\n",
            "                       Tomato___Septoria_leaf_spot      0.845     0.972     0.904       354\n",
            "     Tomato___Spider_mites Two-spotted_spider_mite      0.886     0.884     0.885       335\n",
            "                              Tomato___Target_Spot      0.889     0.772     0.827       281\n",
            "            Tomato___Tomato_Yellow_Leaf_Curl_Virus      0.997     0.989     0.993      1071\n",
            "                      Tomato___Tomato_mosaic_virus      0.910     0.959     0.934        74\n",
            "                                  Tomato___healthy      0.908     0.994     0.949       318\n",
            "                                        background      1.000     1.000     1.000       143\n",
            "\n",
            "                                          accuracy                          0.961     11004\n",
            "                                         macro avg      0.957     0.940     0.946     11004\n",
            "                                      weighted avg      0.962     0.961     0.961     11004\n",
            "\n"
          ],
          "name": "stdout"
        }
      ]
    },
    {
      "cell_type": "markdown",
      "metadata": {
        "id": "_5OXgo7BCDhx"
      },
      "source": [
        "##With NST augmentation"
      ]
    },
    {
      "cell_type": "code",
      "metadata": {
        "colab": {
          "base_uri": "https://localhost:8080/"
        },
        "id": "_sI2ieb2CDhy",
        "outputId": "716db0f6-3dd6-415c-ee94-7e2c4d58bf25"
      },
      "source": [
        "# Train a model with a pre-trained network\n",
        "num_epochs = 20\n",
        "if train_on_gpu:\n",
        "    print (\"Using GPU: \"+ str(train_on_gpu))\n",
        "    model = model.cuda()\n",
        "\n",
        "# NLLLoss because our output is LogSoftmax\n",
        "criterion = nn.NLLLoss()\n",
        "\n",
        "# Adam optimizer with a learning rate\n",
        "optimizer = optim.Adam(model.fc.parameters(), lr=0.001)\n",
        "# Decay LR by a factor of 0.1 every 5 epochs\n",
        "exp_lr_scheduler = lr_scheduler.StepLR(optimizer, step_size=5, gamma=0.1)\n",
        "\n",
        "\n",
        "model_ft = train_model(model, criterion, optimizer, exp_lr_scheduler, num_epochs=num_epochs)"
      ],
      "execution_count": null,
      "outputs": [
        {
          "output_type": "stream",
          "text": [
            "Using GPU: True\n",
            "Epoch 1/20\n",
            "----------\n"
          ],
          "name": "stdout"
        },
        {
          "output_type": "stream",
          "text": [
            "/usr/local/lib/python3.6/dist-packages/torch/optim/lr_scheduler.py:136: UserWarning: Detected call of `lr_scheduler.step()` before `optimizer.step()`. In PyTorch 1.1.0 and later, you should call them in the opposite order: `optimizer.step()` before `lr_scheduler.step()`.  Failure to do this will result in PyTorch skipping the first value of the learning rate schedule. See more details at https://pytorch.org/docs/stable/optim.html#how-to-adjust-learning-rate\n",
            "  \"https://pytorch.org/docs/stable/optim.html#how-to-adjust-learning-rate\", UserWarning)\n"
          ],
          "name": "stderr"
        },
        {
          "output_type": "stream",
          "text": [
            "Train Loss: 0.7132646511875717 Acc: 0.7922616494045066\n",
            "Validation Loss: 0.3029611777529115 Acc: 0.9009451108687749\n",
            "Epoch 2/20\n",
            "----------\n",
            "Train Loss: 0.43201593625876944 Acc: 0.8642111499254357\n",
            "Validation Loss: 0.24482278910410357 Acc: 0.9202108324245728\n",
            "Epoch 3/20\n",
            "----------\n",
            "Train Loss: 0.38436006722841165 Acc: 0.8807991665134522\n",
            "Validation Loss: 0.2143479934749669 Acc: 0.930570701563068\n",
            "Epoch 4/20\n",
            "----------\n",
            "Train Loss: 0.3622512972452178 Acc: 0.8850891708034566\n",
            "Validation Loss: 0.1840301133456641 Acc: 0.9372955288985823\n",
            "Epoch 5/20\n",
            "----------\n",
            "Train Loss: 0.24494917121538162 Acc: 0.9218197789626361\n",
            "Validation Loss: 0.12895978800884728 Acc: 0.9583787713558706\n",
            "Epoch 6/20\n",
            "----------\n",
            "Train Loss: 0.235131638993713 Acc: 0.9245163530877817\n",
            "Validation Loss: 0.13768234966787934 Acc: 0.9529262086513994\n",
            "Epoch 7/20\n",
            "----------\n",
            "Train Loss: 0.22344685056105285 Acc: 0.9278257849686422\n",
            "Validation Loss: 0.12437672283272257 Acc: 0.9588331515812432\n",
            "Epoch 8/20\n",
            "----------\n",
            "Train Loss: 0.2229138416125897 Acc: 0.9278870707442136\n",
            "Validation Loss: 0.1351864602794564 Acc: 0.953017084696474\n",
            "Epoch 9/20\n",
            "----------\n",
            "Train Loss: 0.21554789919633646 Acc: 0.9305836448693592\n",
            "Validation Loss: 0.13427704222830739 Acc: 0.9557433660487095\n",
            "Epoch 10/20\n",
            "----------\n",
            "Train Loss: 0.21372356725913852 Acc: 0.9315233600947888\n",
            "Validation Loss: 0.12174944598288677 Acc: 0.9594692838967648\n",
            "Epoch 11/20\n",
            "----------\n",
            "Train Loss: 0.20849736680249237 Acc: 0.9328716471573615\n",
            "Validation Loss: 0.1194601179547784 Acc: 0.9595601599418393\n",
            "Epoch 12/20\n",
            "----------\n",
            "Train Loss: 0.20626734307092537 Acc: 0.9329125043410759\n",
            "Validation Loss: 0.12117660790258665 Acc: 0.9587422755361686\n",
            "Epoch 13/20\n",
            "----------\n",
            "Train Loss: 0.20091998879020084 Acc: 0.9354047925476497\n",
            "Validation Loss: 0.11376350644910901 Acc: 0.9618320610687022\n",
            "Epoch 14/20\n",
            "----------\n",
            "Train Loss: 0.20208515353505865 Acc: 0.9351187922616494\n",
            "Validation Loss: 0.11133552465644729 Acc: 0.9623773173391493\n",
            "Epoch 15/20\n",
            "----------\n",
            "Train Loss: 0.206395952821987 Acc: 0.9331985046270761\n",
            "Validation Loss: 0.11752181153125608 Acc: 0.960559796437659\n",
            "Epoch 16/20\n",
            "----------\n",
            "Train Loss: 0.20291042761877826 Acc: 0.9340769340769342\n",
            "Validation Loss: 0.12045291578380228 Acc: 0.9599236641221374\n",
            "Epoch 17/20\n",
            "----------\n",
            "Train Loss: 0.20576023795149748 Acc: 0.9341177912606484\n",
            "Validation Loss: 0.11441797801973559 Acc: 0.9611050527081061\n",
            "Epoch 18/20\n",
            "----------\n",
            "Train Loss: 0.2024675129216133 Acc: 0.9336479336479337\n",
            "Validation Loss: 0.111530377029877 Acc: 0.9626499454743729\n",
            "Epoch 19/20\n",
            "----------\n",
            "Train Loss: 0.20115158444213072 Acc: 0.935445649731364\n",
            "Validation Loss: 0.1141760755704072 Acc: 0.9613776808433296\n",
            "Epoch 20/20\n",
            "----------\n",
            "Train Loss: 0.2001889971704766 Acc: 0.934444648730363\n",
            "Validation Loss: 0.11761002730197666 Acc: 0.960923300617957\n",
            "Training complete in 128m 1s\n",
            "Best valid accuracy: 0.962650\n"
          ],
          "name": "stdout"
        }
      ]
    },
    {
      "cell_type": "code",
      "metadata": {
        "id": "2oyqkE7uCDh4"
      },
      "source": [
        "# Do validation on the test set\n",
        "def test(model, dataloaders, device):\n",
        "  model.eval()\n",
        "  accuracy = 0\n",
        "  \n",
        "  model.to(device)\n",
        "  \n",
        "  label_accuracy = {x: 0 for x in image_datasets['val'].classes}\n",
        "  predicted_labels = []\n",
        "  true_labels = []\n",
        "\n",
        "  for images, labels in dataloaders['val']:\n",
        "    images = Variable(images)\n",
        "    labels = Variable(labels)\n",
        "    images, labels = images.to(device), labels.to(device)\n",
        "      \n",
        "    output = model.forward(images)\n",
        "    ps = torch.exp(output)\n",
        "    equality = (labels.data == ps.max(1)[1])\n",
        "    acc = equality.type_as(torch.FloatTensor())\n",
        "    accuracy += acc.mean()\n",
        "    for i,x in enumerate(labels.data):\n",
        "      label_accuracy[image_datasets['val'].classes[x]] += acc[i]\n",
        "      predicted_labels.append(ps.max(1)[1][i])\n",
        "      true_labels.append(x)\n",
        "\n",
        "  print(\"Testing Accuracy: {:.3f}\".format(accuracy/len(dataloaders['val'])))\n",
        "\n",
        "  return true_labels, predicted_labels"
      ],
      "execution_count": null,
      "outputs": []
    },
    {
      "cell_type": "code",
      "metadata": {
        "id": "6MgTui7hCDh7"
      },
      "source": [
        "model.epochs = num_epochs\n",
        "checkpoint = {'input_size': [3, 224, 224],\n",
        "                 'batch_size': dataloaders['train'].batch_size,\n",
        "                  'output_size': 39,\n",
        "                  'state_dict': model.state_dict(),\n",
        "                  'data_transforms': data_transforms,\n",
        "                  'optimizer_dict':optimizer.state_dict(),\n",
        "                  'epoch': model.epochs}\n",
        "torch.save(checkpoint, 'nst_augmentation_checkpoint.pth')"
      ],
      "execution_count": null,
      "outputs": []
    },
    {
      "cell_type": "code",
      "metadata": {
        "colab": {
          "base_uri": "https://localhost:8080/"
        },
        "id": "tievcwAXCDh_",
        "outputId": "4ccd331e-8f4c-49fb-99e2-4c60088f0e87"
      },
      "source": [
        "true_labels, predicted_labels = test(model, dataloaders, device)"
      ],
      "execution_count": null,
      "outputs": [
        {
          "output_type": "stream",
          "text": [
            "Testing Accuracy: 0.963\n"
          ],
          "name": "stdout"
        }
      ]
    },
    {
      "cell_type": "code",
      "metadata": {
        "id": "AxmELyLXCDiE"
      },
      "source": [
        "predicted_labels_list = [x.cpu().item() for x in predicted_labels]\n",
        "true_labels_list = [x.cpu().item() for x in true_labels]"
      ],
      "execution_count": null,
      "outputs": []
    },
    {
      "cell_type": "code",
      "metadata": {
        "colab": {
          "base_uri": "https://localhost:8080/"
        },
        "id": "lgy_Wv0yCDiH",
        "outputId": "6334b037-f42e-4fba-a46d-19327ccfc927"
      },
      "source": [
        "# Print the confusion matrix\n",
        "print(metrics.confusion_matrix(true_labels_list, predicted_labels_list))\n",
        "\n",
        "# Print the precision and recall, among other metrics\n",
        "print(metrics.classification_report(true_labels_list, predicted_labels_list, target_names=image_datasets['val'].classes, digits=3))"
      ],
      "execution_count": null,
      "outputs": [
        {
          "output_type": "stream",
          "text": [
            "[[112   0   2 ...   0   0   0]\n",
            " [  0 124   0 ...   0   0   0]\n",
            " [  2   0  52 ...   0   0   0]\n",
            " ...\n",
            " [  0   0   0 ...  72   0   0]\n",
            " [  0   0   0 ...   0 318   0]\n",
            " [  0   0   0 ...   0   0 143]]\n",
            "                                                    precision    recall  f1-score   support\n",
            "\n",
            "                                Apple___Apple_scab      0.941     0.889     0.914       126\n",
            "                                 Apple___Black_rot      0.984     0.992     0.988       125\n",
            "                          Apple___Cedar_apple_rust      0.963     0.945     0.954        55\n",
            "                                   Apple___healthy      0.953     0.976     0.964       329\n",
            "                               Blueberry___healthy      0.990     0.980     0.985       300\n",
            "          Cherry_(including_sour)___Powdery_mildew      0.995     0.990     0.993       210\n",
            "                 Cherry_(including_sour)___healthy      0.994     0.994     0.994       170\n",
            "Corn_(maize)___Cercospora_leaf_spot Gray_leaf_spot      0.842     0.825     0.833       103\n",
            "                       Corn_(maize)___Common_rust_      0.987     0.983     0.985       239\n",
            "               Corn_(maize)___Northern_Leaf_Blight      0.896     0.919     0.907       197\n",
            "                            Corn_(maize)___healthy      0.996     1.000     0.998       233\n",
            "                                 Grape___Black_rot      0.978     0.949     0.963       236\n",
            "                      Grape___Esca_(Black_Measles)      0.965     0.986     0.975       276\n",
            "        Grape___Leaf_blight_(Isariopsis_Leaf_Spot)      1.000     0.995     0.998       215\n",
            "                                   Grape___healthy      1.000     1.000     1.000        84\n",
            "          Orange___Haunglongbing_(Citrus_greening)      0.998     0.999     0.999      1102\n",
            "                            Peach___Bacterial_spot      0.952     0.998     0.974       459\n",
            "                                   Peach___healthy      0.959     0.972     0.966        72\n",
            "                     Pepper,_bell___Bacterial_spot      0.947     0.980     0.963       200\n",
            "                            Pepper,_bell___healthy      0.970     0.976     0.973       295\n",
            "                             Potato___Early_blight      0.980     0.980     0.980       200\n",
            "                              Potato___Late_blight      0.974     0.940     0.957       200\n",
            "                                  Potato___healthy      0.962     0.806     0.877        31\n",
            "                               Raspberry___healthy      1.000     0.973     0.986        74\n",
            "                                 Soybean___healthy      0.990     0.990     0.990      1018\n",
            "                           Squash___Powdery_mildew      0.997     1.000     0.999       367\n",
            "                          Strawberry___Leaf_scorch      0.969     0.995     0.982       222\n",
            "                              Strawberry___healthy      0.989     1.000     0.995        92\n",
            "                           Tomato___Bacterial_spot      0.957     0.946     0.951       425\n",
            "                             Tomato___Early_blight      0.874     0.835     0.854       200\n",
            "                              Tomato___Late_blight      0.942     0.895     0.918       382\n",
            "                                Tomato___Leaf_Mold      0.975     0.806     0.883       191\n",
            "                       Tomato___Septoria_leaf_spot      0.859     0.966     0.910       354\n",
            "     Tomato___Spider_mites Two-spotted_spider_mite      0.902     0.878     0.890       335\n",
            "                              Tomato___Target_Spot      0.854     0.772     0.811       281\n",
            "            Tomato___Tomato_Yellow_Leaf_Curl_Virus      0.995     0.982     0.989      1071\n",
            "                      Tomato___Tomato_mosaic_virus      0.867     0.973     0.917        74\n",
            "                                  Tomato___healthy      0.893     1.000     0.944       318\n",
            "                                        background      1.000     1.000     1.000       143\n",
            "\n",
            "                                          accuracy                          0.963     11004\n",
            "                                         macro avg      0.956     0.951     0.953     11004\n",
            "                                      weighted avg      0.963     0.963     0.962     11004\n",
            "\n"
          ],
          "name": "stdout"
        }
      ]
    },
    {
      "cell_type": "markdown",
      "metadata": {
        "id": "VCVcpfXOgGGL"
      },
      "source": [
        "##No augmentation"
      ]
    },
    {
      "cell_type": "code",
      "metadata": {
        "colab": {
          "base_uri": "https://localhost:8080/"
        },
        "id": "qz64oeGuFTH8",
        "outputId": "cd106653-d203-42a3-e5ae-2e77747ebeeb"
      },
      "source": [
        "# Train a model with a pre-trained network\n",
        "num_epochs = 10\n",
        "if train_on_gpu:\n",
        "    print (\"Using GPU: \"+ str(train_on_gpu))\n",
        "    model = model.cuda()\n",
        "\n",
        "# NLLLoss because our output is LogSoftmax\n",
        "criterion = nn.NLLLoss()\n",
        "\n",
        "# Adam optimizer with a learning rate\n",
        "optimizer = optim.Adam(model.fc.parameters(), lr=0.001)\n",
        "# Decay LR by a factor of 0.1 every 5 epochs\n",
        "exp_lr_scheduler = lr_scheduler.StepLR(optimizer, step_size=5, gamma=0.1)\n",
        "\n",
        "\n",
        "model_ft = train_model(model, criterion, optimizer, exp_lr_scheduler, num_epochs=10)"
      ],
      "execution_count": null,
      "outputs": [
        {
          "output_type": "stream",
          "text": [
            "Using GPU: True\n",
            "Epoch 1/10\n",
            "----------\n"
          ],
          "name": "stdout"
        },
        {
          "output_type": "stream",
          "text": [
            "/usr/local/lib/python3.6/dist-packages/torch/optim/lr_scheduler.py:136: UserWarning: Detected call of `lr_scheduler.step()` before `optimizer.step()`. In PyTorch 1.1.0 and later, you should call them in the opposite order: `optimizer.step()` before `lr_scheduler.step()`.  Failure to do this will result in PyTorch skipping the first value of the learning rate schedule. See more details at https://pytorch.org/docs/stable/optim.html#how-to-adjust-learning-rate\n",
            "  \"https://pytorch.org/docs/stable/optim.html#how-to-adjust-learning-rate\", UserWarning)\n"
          ],
          "name": "stderr"
        },
        {
          "output_type": "stream",
          "text": [
            "Train Loss: 0.7443560107551198 Acc: 0.7814885496183206\n",
            "Validation Loss: 0.37060417795519274 Acc: 0.8800436205016358\n",
            "Epoch 2/10\n",
            "----------\n",
            "Train Loss: 0.4475296107217296 Acc: 0.8578925845147218\n",
            "Validation Loss: 0.38579534247696334 Acc: 0.8790439840058161\n",
            "Epoch 3/10\n",
            "----------\n",
            "Train Loss: 0.40331033510550374 Acc: 0.8738413304252999\n",
            "Validation Loss: 0.22810047492249494 Acc: 0.923209741912032\n",
            "Epoch 4/10\n",
            "----------\n",
            "Train Loss: 0.3788337055140086 Acc: 0.880452562704471\n",
            "Validation Loss: 0.15990519331871747 Acc: 0.947928026172301\n",
            "Epoch 5/10\n",
            "----------\n",
            "Train Loss: 0.2554146497669826 Acc: 0.9174845510723373\n",
            "Validation Loss: 0.13524317090450005 Acc: 0.9550163576881133\n",
            "Epoch 6/10\n",
            "----------\n",
            "Train Loss: 0.24336389446802376 Acc: 0.9202335514358415\n",
            "Validation Loss: 0.11559840762444039 Acc: 0.9614685568884042\n",
            "Epoch 7/10\n",
            "----------\n",
            "Train Loss: 0.24257489814826225 Acc: 0.9222328244274809\n",
            "Validation Loss: 0.125905901212577 Acc: 0.9576517629952744\n",
            "Epoch 8/10\n",
            "----------\n",
            "Train Loss: 0.23097239990736607 Acc: 0.9255043620501635\n",
            "Validation Loss: 0.11109154883999633 Acc: 0.9625590694292984\n",
            "Epoch 9/10\n",
            "----------\n",
            "Train Loss: 0.2266486765040198 Acc: 0.9275717920756088\n",
            "Validation Loss: 0.13445111699280457 Acc: 0.9534714649218465\n",
            "Epoch 10/10\n",
            "----------\n",
            "Train Loss: 0.21392742054613448 Acc: 0.9295483460559796\n",
            "Validation Loss: 0.12267089473988871 Acc: 0.9585605234460196\n",
            "Training complete in 184m 52s\n",
            "Best valid accuracy: 0.962559\n"
          ],
          "name": "stdout"
        }
      ]
    },
    {
      "cell_type": "code",
      "metadata": {
        "id": "hKgX2sIqeaTk"
      },
      "source": [
        "# Do validation on the test set\n",
        "def test(model, dataloaders, device):\n",
        "  model.eval()\n",
        "  accuracy = 0\n",
        "  \n",
        "  model.to(device)\n",
        "  \n",
        "  label_accuracy = {x: 0 for x in splits['val'].dataset.classes}\n",
        "  predicted_labels = []\n",
        "  true_labels = []\n",
        "\n",
        "  for images, labels in dataloaders['val']:\n",
        "    images = Variable(images)\n",
        "    labels = Variable(labels)\n",
        "    images, labels = images.to(device), labels.to(device)\n",
        "      \n",
        "    output = model.forward(images)\n",
        "    ps = torch.exp(output)\n",
        "    equality = (labels.data == ps.max(1)[1])\n",
        "    acc = equality.type_as(torch.FloatTensor())\n",
        "    accuracy += acc.mean()\n",
        "    for i,x in enumerate(labels.data):\n",
        "      label_accuracy[splits['val'].dataset.classes[x]] += acc[i]\n",
        "      predicted_labels.append(ps.max(1)[1][i])\n",
        "      true_labels.append(x)\n",
        "\n",
        "  print(\"Testing Accuracy: {:.3f}\".format(accuracy/len(dataloaders['val'])))\n",
        "  for x in splits['val'].dataset.classes:\n",
        "    acc = label_accuracy[x]/buckets_split['val'][x]\n",
        "    print(f\"Testing Accuracy on label {x} with {buckets_split['train'][x]} training examples: {acc}\")\n",
        "\n",
        "  return true_labels, predicted_labels"
      ],
      "execution_count": null,
      "outputs": []
    },
    {
      "cell_type": "code",
      "metadata": {
        "colab": {
          "base_uri": "https://localhost:8080/",
          "height": 697
        },
        "id": "JK0iEH2IebKp",
        "outputId": "cf9104af-bb69-4f71-deed-4b932198b14d"
      },
      "source": [
        "true_labels, predicted_labels = test(model, dataloaders, device)"
      ],
      "execution_count": null,
      "outputs": [
        {
          "output_type": "stream",
          "text": [
            "Testing Accuracy: 0.976\n",
            "Testing Accuracy on label Apple___Apple_scab with 456 training examples: 0.954023003578186\n",
            "Testing Accuracy on label Apple___Black_rot with 462 training examples: 0.9937106966972351\n",
            "Testing Accuracy on label Apple___Cedar_apple_rust with 212 training examples: 0.9841269850730896\n",
            "Testing Accuracy on label Apple___healthy with 1231 training examples: 0.9927536249160767\n",
            "Testing Accuracy on label Background_without_leaves with 828 training examples: 0.9936507940292358\n",
            "Testing Accuracy on label Blueberry___healthy with 1116 training examples: 1.0\n",
            "Testing Accuracy on label Cherry___Powdery_mildew with 826 training examples: 0.982300877571106\n",
            "Testing Accuracy on label Cherry___healthy with 654 training examples: 0.9900000095367432\n",
            "Testing Accuracy on label Corn___Cercospora_leaf_spot Gray_leaf_spot with 372 training examples: 0.8794326186180115\n",
            "Testing Accuracy on label Corn___Common_rust with 883 training examples: 0.9967637658119202\n",
            "Testing Accuracy on label Corn___Northern_Leaf_Blight with 737 training examples: 0.9112903475761414\n",
            "Testing Accuracy on label Corn___healthy with 864 training examples: 1.0\n",
            "Testing Accuracy on label Grape___Black_rot with 876 training examples: 0.9671052694320679\n",
            "Testing Accuracy on label Grape___Esca_(Black_Measles) with 1057 training examples: 0.9815950989723206\n",
            "Testing Accuracy on label Grape___Leaf_blight_(Isariopsis_Leaf_Spot) with 811 training examples: 0.99245285987854\n",
            "Testing Accuracy on label Grape___healthy with 321 training examples: 1.0\n",
            "Testing Accuracy on label Orange___Haunglongbing_(Citrus_greening) with 4130 training examples: 0.9978213310241699\n",
            "Testing Accuracy on label Peach___Bacterial_spot with 1713 training examples: 0.9845890402793884\n",
            "Testing Accuracy on label Peach___healthy with 262 training examples: 1.0\n",
            "Testing Accuracy on label Pepper,_bell___Bacterial_spot with 772 training examples: 0.9777777791023254\n",
            "Testing Accuracy on label Pepper,_bell___healthy with 1130 training examples: 0.9942528605461121\n",
            "Testing Accuracy on label Potato___Early_blight with 726 training examples: 0.9817517995834351\n",
            "Testing Accuracy on label Potato___Late_blight with 772 training examples: 0.9649122953414917\n",
            "Testing Accuracy on label Potato___healthy with 118 training examples: 0.9117646813392639\n",
            "Testing Accuracy on label Raspberry___healthy with 284 training examples: 0.9885057210922241\n",
            "Testing Accuracy on label Soybean___healthy with 3846 training examples: 0.9951768517494202\n",
            "Testing Accuracy on label Squash___Powdery_mildew with 1380 training examples: 1.0\n",
            "Testing Accuracy on label Strawberry___Leaf_scorch with 823 training examples: 0.996503472328186\n",
            "Testing Accuracy on label Strawberry___healthy with 344 training examples: 1.0\n",
            "Testing Accuracy on label Tomato___Bacterial_spot with 1603 training examples: 0.9618320465087891\n",
            "Testing Accuracy on label Tomato___Early_blight with 768 training examples: 0.8318965435028076\n",
            "Testing Accuracy on label Tomato___Late_blight with 1441 training examples: 0.9444444179534912\n",
            "Testing Accuracy on label Tomato___Leaf_Mold with 702 training examples: 0.9399999976158142\n",
            "Testing Accuracy on label Tomato___Septoria_leaf_spot with 1313 training examples: 0.9344978332519531\n",
            "Testing Accuracy on label Tomato___Spider_mites Two-spotted_spider_mite with 1249 training examples: 0.9180327653884888\n",
            "Testing Accuracy on label Tomato___Target_Spot with 1056 training examples: 0.9166666865348816\n",
            "Testing Accuracy on label Tomato___Tomato_Yellow_Leaf_Curl_Virus with 3987 training examples: 0.989051103591919\n",
            "Testing Accuracy on label Tomato___Tomato_mosaic_virus with 273 training examples: 0.9599999785423279\n",
            "Testing Accuracy on label Tomato___healthy with 1188 training examples: 0.9925558567047119\n"
          ],
          "name": "stdout"
        }
      ]
    },
    {
      "cell_type": "code",
      "metadata": {
        "id": "CbHzlXCwkVap"
      },
      "source": [
        "predicted_labels_list = [x.cpu().item() for x in predicted_labels]\n",
        "true_labels_list = [x.cpu().item() for x in true_labels]"
      ],
      "execution_count": null,
      "outputs": []
    },
    {
      "cell_type": "code",
      "metadata": {
        "colab": {
          "base_uri": "https://localhost:8080/",
          "height": 918
        },
        "id": "lLxWfQEQfJjx",
        "outputId": "74a3211a-c1ca-4944-b13e-96f08c2d1ae1"
      },
      "source": [
        "# Print the confusion matrix\n",
        "print(metrics.confusion_matrix(true_labels_list, predicted_labels_list))\n",
        "\n",
        "# Print the precision and recall, among other metrics\n",
        "print(metrics.classification_report(true_labels_list, predicted_labels_list, target_names=splits['val'].dataset.classes, digits=3))"
      ],
      "execution_count": null,
      "outputs": [
        {
          "output_type": "stream",
          "text": [
            "[[ 166    2    0 ...    0    0    0]\n",
            " [   0  158    0 ...    0    0    0]\n",
            " [   0    0   62 ...    0    0    0]\n",
            " ...\n",
            " [   0    0    0 ... 1355    0    0]\n",
            " [   0    0    0 ...    0   96    0]\n",
            " [   0    0    0 ...    0    0  400]]\n",
            "                                               precision    recall  f1-score   support\n",
            "\n",
            "                           Apple___Apple_scab      0.988     0.954     0.971       174\n",
            "                            Apple___Black_rot      0.969     0.994     0.981       159\n",
            "                     Apple___Cedar_apple_rust      0.984     0.984     0.984        63\n",
            "                              Apple___healthy      0.988     0.993     0.990       414\n",
            "                    Background_without_leaves      0.994     0.994     0.994       315\n",
            "                          Blueberry___healthy      0.992     1.000     0.996       386\n",
            "                      Cherry___Powdery_mildew      0.991     0.982     0.987       226\n",
            "                             Cherry___healthy      0.990     0.990     0.990       200\n",
            "   Corn___Cercospora_leaf_spot Gray_leaf_spot      0.844     0.879     0.861       141\n",
            "                           Corn___Common_rust      0.997     0.997     0.997       309\n",
            "                  Corn___Northern_Leaf_Blight      0.938     0.911     0.924       248\n",
            "                               Corn___healthy      0.997     1.000     0.998       298\n",
            "                            Grape___Black_rot      0.980     0.967     0.974       304\n",
            "                 Grape___Esca_(Black_Measles)      0.970     0.982     0.976       326\n",
            "   Grape___Leaf_blight_(Isariopsis_Leaf_Spot)      1.000     0.992     0.996       265\n",
            "                              Grape___healthy      1.000     1.000     1.000       102\n",
            "     Orange___Haunglongbing_(Citrus_greening)      1.000     0.998     0.999      1377\n",
            "                       Peach___Bacterial_spot      0.990     0.985     0.987       584\n",
            "                              Peach___healthy      0.970     1.000     0.985        98\n",
            "                Pepper,_bell___Bacterial_spot      0.982     0.978     0.980       225\n",
            "                       Pepper,_bell___healthy      0.980     0.994     0.987       348\n",
            "                        Potato___Early_blight      0.996     0.982     0.989       274\n",
            "                         Potato___Late_blight      0.961     0.965     0.963       228\n",
            "                             Potato___healthy      0.969     0.912     0.939        34\n",
            "                          Raspberry___healthy      0.989     0.989     0.989        87\n",
            "                            Soybean___healthy      0.998     0.995     0.997      1244\n",
            "                      Squash___Powdery_mildew      1.000     1.000     1.000       455\n",
            "                     Strawberry___Leaf_scorch      0.983     0.997     0.990       286\n",
            "                         Strawberry___healthy      1.000     1.000     1.000       112\n",
            "                      Tomato___Bacterial_spot      0.966     0.962     0.964       524\n",
            "                        Tomato___Early_blight      0.818     0.832     0.825       232\n",
            "                         Tomato___Late_blight      0.951     0.944     0.947       468\n",
            "                           Tomato___Leaf_Mold      0.925     0.940     0.933       250\n",
            "                  Tomato___Septoria_leaf_spot      0.953     0.934     0.944       458\n",
            "Tomato___Spider_mites Two-spotted_spider_mite      0.936     0.918     0.927       427\n",
            "                         Tomato___Target_Spot      0.909     0.917     0.913       348\n",
            "       Tomato___Tomato_Yellow_Leaf_Curl_Virus      0.987     0.989     0.988      1370\n",
            "                 Tomato___Tomato_mosaic_virus      0.970     0.960     0.965       100\n",
            "                             Tomato___healthy      0.959     0.993     0.976       403\n",
            "\n",
            "                                     accuracy                          0.976     13862\n",
            "                                    macro avg      0.970     0.969     0.969     13862\n",
            "                                 weighted avg      0.976     0.976     0.976     13862\n",
            "\n"
          ],
          "name": "stdout"
        }
      ]
    },
    {
      "cell_type": "code",
      "metadata": {
        "id": "LgrodXtnmbcb"
      },
      "source": [
        "model.epochs = num_epochs\n",
        "checkpoint = {'input_size': [3, 224, 224],\n",
        "                 'batch_size': dataloaders['train'].batch_size,\n",
        "                  'output_size': 39,\n",
        "                  'state_dict': model.state_dict(),\n",
        "                  'data_transforms': data_transforms,\n",
        "                  'optimizer_dict':optimizer.state_dict(),\n",
        "                  'epoch': model.epochs}\n",
        "torch.save(checkpoint, 'plants_no_augmentation_checkpoint.pth')"
      ],
      "execution_count": null,
      "outputs": []
    },
    {
      "cell_type": "code",
      "metadata": {
        "colab": {
          "base_uri": "https://localhost:8080/",
          "height": 972
        },
        "id": "nO1XxGB1gFes",
        "outputId": "cec3d231-2ace-4390-90b8-3f9c4cdb0083"
      },
      "source": [
        "# Train a model with a pre-trained network\n",
        "num_epochs = 10\n",
        "if train_on_gpu:\n",
        "    print (\"Using GPU: \"+ str(train_on_gpu))\n",
        "    model = model.cuda()\n",
        "\n",
        "# NLLLoss because our output is LogSoftmax\n",
        "criterion = nn.NLLLoss()\n",
        "\n",
        "# Adam optimizer with a learning rate\n",
        "optimizer = optim.Adam(model.fc.parameters(), lr=0.001)\n",
        "# Decay LR by a factor of 0.1 every 5 epochs\n",
        "exp_lr_scheduler = lr_scheduler.StepLR(optimizer, step_size=5, gamma=0.1)\n",
        "\n",
        "\n",
        "model_ft = train_model(model, criterion, optimizer, exp_lr_scheduler, num_epochs=10)"
      ],
      "execution_count": null,
      "outputs": [
        {
          "output_type": "stream",
          "text": [
            "Using GPU: True\n",
            "Epoch 1/10\n",
            "----------\n"
          ],
          "name": "stdout"
        },
        {
          "output_type": "stream",
          "text": [
            "/usr/local/lib/python3.6/dist-packages/torch/optim/lr_scheduler.py:123: UserWarning: Detected call of `lr_scheduler.step()` before `optimizer.step()`. In PyTorch 1.1.0 and later, you should call them in the opposite order: `optimizer.step()` before `lr_scheduler.step()`.  Failure to do this will result in PyTorch skipping the first value of the learning rate schedule. See more details at https://pytorch.org/docs/stable/optim.html#how-to-adjust-learning-rate\n",
            "  \"https://pytorch.org/docs/stable/optim.html#how-to-adjust-learning-rate\", UserWarning)\n"
          ],
          "name": "stderr"
        },
        {
          "output_type": "stream",
          "text": [
            "train Loss: 0.4252 Acc: 0.8760\n",
            "val Loss: 0.2006 Acc: 0.9331\n",
            "\n",
            "Epoch 2/10\n",
            "----------\n",
            "train Loss: 0.1957 Acc: 0.9347\n",
            "val Loss: 0.1502 Acc: 0.9518\n",
            "\n",
            "Epoch 3/10\n",
            "----------\n",
            "train Loss: 0.1605 Acc: 0.9460\n",
            "val Loss: 0.1934 Acc: 0.9385\n",
            "\n",
            "Epoch 4/10\n",
            "----------\n",
            "train Loss: 0.1422 Acc: 0.9533\n",
            "val Loss: 0.1152 Acc: 0.9612\n",
            "\n",
            "Epoch 5/10\n",
            "----------\n",
            "train Loss: 0.0604 Acc: 0.9788\n",
            "val Loss: 0.0776 Acc: 0.9748\n",
            "\n",
            "Epoch 6/10\n",
            "----------\n",
            "train Loss: 0.0542 Acc: 0.9811\n",
            "val Loss: 0.0774 Acc: 0.9764\n",
            "\n",
            "Epoch 7/10\n",
            "----------\n",
            "train Loss: 0.0479 Acc: 0.9833\n",
            "val Loss: 0.0747 Acc: 0.9763\n",
            "\n",
            "Epoch 8/10\n",
            "----------\n",
            "train Loss: 0.0465 Acc: 0.9842\n",
            "val Loss: 0.0683 Acc: 0.9782\n",
            "\n",
            "Epoch 9/10\n",
            "----------\n",
            "train Loss: 0.0445 Acc: 0.9845\n",
            "val Loss: 0.0715 Acc: 0.9782\n",
            "\n",
            "Epoch 10/10\n",
            "----------\n",
            "train Loss: 0.0373 Acc: 0.9877\n",
            "val Loss: 0.0651 Acc: 0.9802\n",
            "\n",
            "Training complete in 70m 4s\n",
            "Best valid accuracy: 0.980162\n"
          ],
          "name": "stdout"
        }
      ]
    },
    {
      "cell_type": "markdown",
      "metadata": {
        "id": "vej0-h0EgJJ8"
      },
      "source": [
        "##With simple augmentation"
      ]
    },
    {
      "cell_type": "code",
      "metadata": {
        "colab": {
          "base_uri": "https://localhost:8080/"
        },
        "id": "ESDA5Gnsy0pz",
        "outputId": "1a3167cf-131b-4af0-927b-455a52fce176"
      },
      "source": [
        "# Train a model with a pre-trained network\n",
        "num_epochs = 10\n",
        "if train_on_gpu:\n",
        "    print (\"Using GPU: \"+ str(train_on_gpu))\n",
        "    model = model.cuda()\n",
        "\n",
        "# NLLLoss because our output is LogSoftmax\n",
        "criterion = nn.NLLLoss()\n",
        "\n",
        "# Adam optimizer with a learning rate\n",
        "optimizer = optim.Adam(model.fc.parameters(), lr=0.001)\n",
        "# Decay LR by a factor of 0.1 every 5 epochs\n",
        "exp_lr_scheduler = lr_scheduler.StepLR(optimizer, step_size=5, gamma=0.1)\n",
        "\n",
        "\n",
        "model_ft = train_model(model, criterion, optimizer, exp_lr_scheduler, num_epochs=10)"
      ],
      "execution_count": null,
      "outputs": [
        {
          "output_type": "stream",
          "text": [
            "Using GPU: True\n",
            "Epoch 1/10\n",
            "----------\n"
          ],
          "name": "stdout"
        },
        {
          "output_type": "stream",
          "text": [
            "/usr/local/lib/python3.6/dist-packages/torch/optim/lr_scheduler.py:136: UserWarning: Detected call of `lr_scheduler.step()` before `optimizer.step()`. In PyTorch 1.1.0 and later, you should call them in the opposite order: `optimizer.step()` before `lr_scheduler.step()`.  Failure to do this will result in PyTorch skipping the first value of the learning rate schedule. See more details at https://pytorch.org/docs/stable/optim.html#how-to-adjust-learning-rate\n",
            "  \"https://pytorch.org/docs/stable/optim.html#how-to-adjust-learning-rate\", UserWarning)\n"
          ],
          "name": "stderr"
        },
        {
          "output_type": "stream",
          "text": [
            "Train Loss: 0.8837598856472181 Acc: 0.7463649581970192\n",
            "Validation Loss: 0.354976007504973 Acc: 0.8856779352962558\n",
            "Epoch 2/10\n",
            "----------\n",
            "Train Loss: 0.5266983326360642 Acc: 0.8321519447473645\n",
            "Validation Loss: 0.31082017692874053 Acc: 0.8990367139222101\n",
            "Epoch 3/10\n",
            "----------\n",
            "Train Loss: 0.4664204460313129 Acc: 0.8508496910214467\n",
            "Validation Loss: 0.2337356966422057 Acc: 0.925845147219193\n",
            "Epoch 4/10\n",
            "----------\n",
            "Train Loss: 0.4351445941253819 Acc: 0.8614140312613595\n",
            "Validation Loss: 0.2775016803027418 Acc: 0.9105779716466739\n",
            "Epoch 5/10\n",
            "----------\n",
            "Train Loss: 0.3158063655634526 Acc: 0.8979234823700472\n",
            "Validation Loss: 0.17185543800043987 Acc: 0.9452017448200654\n",
            "Epoch 6/10\n",
            "----------\n",
            "Train Loss: 0.2997620917229718 Acc: 0.9033533260632497\n",
            "Validation Loss: 0.15155389912352882 Acc: 0.9498364231188658\n",
            "Epoch 7/10\n",
            "----------\n",
            "Train Loss: 0.29896366423092746 Acc: 0.9032170119956379\n",
            "Validation Loss: 0.1497585157631071 Acc: 0.9511995637949836\n",
            "Epoch 8/10\n",
            "----------\n",
            "Train Loss: 0.28829778075998197 Acc: 0.9072382769901853\n",
            "Validation Loss: 0.15700669291026614 Acc: 0.9472918938567793\n",
            "Epoch 9/10\n",
            "----------\n",
            "Train Loss: 0.2808667891464182 Acc: 0.9100781533987641\n",
            "Validation Loss: 0.16112255762062344 Acc: 0.9459287531806615\n",
            "Epoch 10/10\n",
            "----------\n",
            "Train Loss: 0.2713240535935893 Acc: 0.9128271537622682\n",
            "Validation Loss: 0.14061429389694133 Acc: 0.9531079607415485\n",
            "Training complete in 185m 3s\n",
            "Best valid accuracy: 0.953108\n"
          ],
          "name": "stdout"
        }
      ]
    },
    {
      "cell_type": "code",
      "metadata": {
        "id": "qVd69iIKVe3a"
      },
      "source": [
        "# Do validation on the test set\n",
        "def test(model, dataloaders, device):\n",
        "  model.eval()\n",
        "  accuracy = 0\n",
        "  \n",
        "  model.to(device)\n",
        "  \n",
        "  label_accuracy = {x: 0 for x in image_datasets['val'].classes}\n",
        "  predicted_labels = []\n",
        "  true_labels = []\n",
        "\n",
        "  for images, labels in dataloaders['val']:\n",
        "    images = Variable(images)\n",
        "    labels = Variable(labels)\n",
        "    images, labels = images.to(device), labels.to(device)\n",
        "      \n",
        "    output = model.forward(images)\n",
        "    ps = torch.exp(output)\n",
        "    equality = (labels.data == ps.max(1)[1])\n",
        "    acc = equality.type_as(torch.FloatTensor())\n",
        "    accuracy += acc.mean()\n",
        "    for i,x in enumerate(labels.data):\n",
        "      label_accuracy[image_datasets['val'].classes[x]] += acc[i]\n",
        "      predicted_labels.append(ps.max(1)[1][i])\n",
        "      true_labels.append(x)\n",
        "\n",
        "  print(\"Testing Accuracy: {:.3f}\".format(accuracy/len(dataloaders['val'])))\n",
        "\n",
        "  return true_labels, predicted_labels"
      ],
      "execution_count": null,
      "outputs": []
    },
    {
      "cell_type": "code",
      "metadata": {
        "id": "ajF8V2SgEv0Z"
      },
      "source": [
        "model.epochs = num_epochs\n",
        "checkpoint = {'input_size': [3, 224, 224],\n",
        "                 'batch_size': dataloaders['train'].batch_size,\n",
        "                  'output_size': 39,\n",
        "                  'state_dict': model.state_dict(),\n",
        "                  'data_transforms': data_transforms,\n",
        "                  'optimizer_dict':optimizer.state_dict(),\n",
        "                  'epoch': model.epochs}\n",
        "torch.save(checkpoint, 'balanced_augmentation_checkpoint.pth')"
      ],
      "execution_count": null,
      "outputs": []
    },
    {
      "cell_type": "code",
      "metadata": {
        "colab": {
          "base_uri": "https://localhost:8080/"
        },
        "id": "sjT295sJp3I5",
        "outputId": "65845e89-5093-4d11-f55c-79d2d0512ab7"
      },
      "source": [
        "true_labels, predicted_labels = test(loaded_model, dataloaders, device)"
      ],
      "execution_count": null,
      "outputs": [
        {
          "output_type": "stream",
          "text": [
            "Testing Accuracy: 0.953\n"
          ],
          "name": "stdout"
        }
      ]
    },
    {
      "cell_type": "code",
      "metadata": {
        "id": "amGx3EP9qCHD"
      },
      "source": [
        "predicted_labels_list = [x.cpu().item() for x in predicted_labels]\n",
        "true_labels_list = [x.cpu().item() for x in true_labels]"
      ],
      "execution_count": null,
      "outputs": []
    },
    {
      "cell_type": "code",
      "metadata": {
        "colab": {
          "base_uri": "https://localhost:8080/"
        },
        "id": "xofdW5evqCuZ",
        "outputId": "9df599cc-8590-49c8-89b3-20e74cacb017"
      },
      "source": [
        "# Print the confusion matrix\n",
        "print(metrics.confusion_matrix(true_labels_list, predicted_labels_list))\n",
        "\n",
        "# Print the precision and recall, among other metrics\n",
        "print(metrics.classification_report(true_labels_list, predicted_labels_list, target_names=image_datasets['val'].classes, digits=3))"
      ],
      "execution_count": null,
      "outputs": [
        {
          "output_type": "stream",
          "text": [
            "[[119   1   0 ...   0   0   0]\n",
            " [  0 124   0 ...   0   0   0]\n",
            " [  0   0  55 ...   0   0   0]\n",
            " ...\n",
            " [  0   0   0 ...  74   0   0]\n",
            " [  0   0   0 ...   1 317   0]\n",
            " [  0   0   0 ...   0   0 142]]\n",
            "                                                    precision    recall  f1-score   support\n",
            "\n",
            "                                Apple___Apple_scab      0.967     0.944     0.956       126\n",
            "                                 Apple___Black_rot      0.932     0.992     0.961       125\n",
            "                          Apple___Cedar_apple_rust      1.000     1.000     1.000        55\n",
            "                                   Apple___healthy      0.961     0.964     0.962       329\n",
            "                               Blueberry___healthy      0.990     0.990     0.990       300\n",
            "          Cherry_(including_sour)___Powdery_mildew      0.990     0.981     0.986       210\n",
            "                 Cherry_(including_sour)___healthy      0.955     0.994     0.974       170\n",
            "Corn_(maize)___Cercospora_leaf_spot Gray_leaf_spot      0.778     0.883     0.827       103\n",
            "                       Corn_(maize)___Common_rust_      0.987     0.987     0.987       239\n",
            "               Corn_(maize)___Northern_Leaf_Blight      0.934     0.868     0.900       197\n",
            "                            Corn_(maize)___healthy      0.996     1.000     0.998       233\n",
            "                                 Grape___Black_rot      0.962     0.966     0.964       236\n",
            "                      Grape___Esca_(Black_Measles)      0.978     0.982     0.980       276\n",
            "        Grape___Leaf_blight_(Isariopsis_Leaf_Spot)      1.000     0.977     0.988       215\n",
            "                                   Grape___healthy      0.933     1.000     0.966        84\n",
            "          Orange___Haunglongbing_(Citrus_greening)      0.998     0.997     0.998      1102\n",
            "                            Peach___Bacterial_spot      0.954     0.987     0.970       459\n",
            "                                   Peach___healthy      0.910     0.986     0.947        72\n",
            "                     Pepper,_bell___Bacterial_spot      0.950     0.955     0.953       200\n",
            "                            Pepper,_bell___healthy      0.892     0.976     0.932       295\n",
            "                             Potato___Early_blight      0.975     0.985     0.980       200\n",
            "                              Potato___Late_blight      0.974     0.955     0.965       200\n",
            "                                  Potato___healthy      0.829     0.935     0.879        31\n",
            "                               Raspberry___healthy      0.974     1.000     0.987        74\n",
            "                                 Soybean___healthy      0.990     0.971     0.980      1018\n",
            "                           Squash___Powdery_mildew      0.997     0.995     0.996       367\n",
            "                          Strawberry___Leaf_scorch      0.969     0.991     0.980       222\n",
            "                              Strawberry___healthy      0.989     1.000     0.995        92\n",
            "                           Tomato___Bacterial_spot      0.962     0.887     0.923       425\n",
            "                             Tomato___Early_blight      0.860     0.800     0.829       200\n",
            "                              Tomato___Late_blight      0.941     0.874     0.906       382\n",
            "                                Tomato___Leaf_Mold      0.969     0.817     0.886       191\n",
            "                       Tomato___Septoria_leaf_spot      0.841     0.944     0.889       354\n",
            "     Tomato___Spider_mites Two-spotted_spider_mite      0.872     0.812     0.841       335\n",
            "                              Tomato___Target_Spot      0.821     0.751     0.784       281\n",
            "            Tomato___Tomato_Yellow_Leaf_Curl_Virus      0.993     0.973     0.983      1071\n",
            "                      Tomato___Tomato_mosaic_virus      0.733     1.000     0.846        74\n",
            "                                  Tomato___healthy      0.861     0.997     0.924       318\n",
            "                                        background      1.000     0.993     0.996       143\n",
            "\n",
            "                                          accuracy                          0.953     11004\n",
            "                                         macro avg      0.939     0.952     0.944     11004\n",
            "                                      weighted avg      0.955     0.953     0.953     11004\n",
            "\n"
          ],
          "name": "stdout"
        }
      ]
    },
    {
      "cell_type": "markdown",
      "metadata": {
        "id": "1ho0hXROIi0p"
      },
      "source": [
        "# Load checkpoint"
      ]
    },
    {
      "cell_type": "code",
      "metadata": {
        "id": "zEAc1TXAIk55"
      },
      "source": [
        "def load_checkpoint(filepath):\n",
        "    checkpoint = torch.load(filepath)\n",
        "    model = models.resnet152()\n",
        "    \n",
        "    # Input_size matches the in_features of pretrained model\n",
        "    input_size = 2048\n",
        "    output_size = 39\n",
        "    \n",
        "    classifier = nn.Sequential(OrderedDict([\n",
        "                          ('fc1', nn.Linear(input_size, 512)),\n",
        "                          ('relu', nn.ReLU()),\n",
        "                          ('fc2', nn.Linear(512, output_size)),\n",
        "                          ('output', nn.LogSoftmax(dim=1))\n",
        "                          ]))\n",
        "\n",
        "    model.fc = classifier\n",
        "    model.load_state_dict(checkpoint['state_dict'])\n",
        "    \n",
        "    return model\n",
        "\n",
        "# Get index to class mapping\n",
        "model = load_checkpoint('balanced_augmentation_checkpoint.pth')"
      ],
      "execution_count": null,
      "outputs": []
    },
    {
      "cell_type": "code",
      "metadata": {
        "id": "7RGxXyx4OggE"
      },
      "source": [
        ""
      ],
      "execution_count": null,
      "outputs": []
    }
  ]
}